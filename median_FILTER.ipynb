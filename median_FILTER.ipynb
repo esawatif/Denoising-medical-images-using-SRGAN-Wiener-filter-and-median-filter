{
  "nbformat": 4,
  "nbformat_minor": 0,
  "metadata": {
    "colab": {
      "name": "median_FILTER.ipynb",
      "provenance": []
    },
    "kernelspec": {
      "name": "python3",
      "display_name": "Python 3"
    },
    "language_info": {
      "name": "python"
    }
  },
  "cells": [
    {
      "cell_type": "code",
      "execution_count": null,
      "metadata": {
        "id": "mz2G13hrJ_II"
      },
      "outputs": [],
      "source": [
        "import os\n",
        "import numpy as np\n",
        "import matplotlib.pyplot as plt\n",
        "import torch \n",
        "import random\n",
        "from skimage.util import random_noise\n",
        "import cv2\n",
        "import tensorflow as tf"
      ]
    },
    {
      "cell_type": "code",
      "source": [
        "from google.colab import drive\n",
        "drive.mount('/content/drive')"
      ],
      "metadata": {
        "colab": {
          "base_uri": "https://localhost:8080/"
        },
        "id": "SwHe4cO3KRxf",
        "outputId": "50614012-3af8-409e-f163-8363086cf983"
      },
      "execution_count": null,
      "outputs": [
        {
          "output_type": "stream",
          "name": "stdout",
          "text": [
            "Mounted at /content/drive\n"
          ]
        }
      ]
    },
    {
      "cell_type": "code",
      "source": [
        "def median_filter(data, kernel_size):\n",
        "    temp = []\n",
        "    indexer = kernel_size // 2\n",
        "    data_final = []\n",
        "    data_final = np.zeros((len(data),len(data[0])))\n",
        "    for i in range(len(data)):\n",
        "\n",
        "        for j in range(len(data[0])):\n",
        "\n",
        "            for z in range(kernel_size):\n",
        "                if i + z - indexer < 0 or i + z - indexer > len(data) - 1:\n",
        "                    for c in range(kernel_size):\n",
        "                        temp.append(0)\n",
        "                else:\n",
        "                    if j + z - indexer < 0 or j + indexer > len(data[0]) - 1:\n",
        "                        temp.append(0)\n",
        "                    else:\n",
        "                        for k in range(kernel_size):\n",
        "                            temp.append(data[i + z - indexer][j + k - indexer])\n",
        "\n",
        "            temp.sort()\n",
        "            data_final[i][j] = temp[len(temp) // 2]\n",
        "            temp = []\n",
        "    return data_final"
      ],
      "metadata": {
        "id": "oTppd9o8KWR2"
      },
      "execution_count": null,
      "outputs": []
    },
    {
      "cell_type": "code",
      "source": [
        "def speckle(img) :\n",
        "  hasil = torch.tensor(random_noise(img, mode='speckle', mean=0, var=0.05, clip=True))\n",
        "  hasil = hasil.numpy()\n",
        "  return hasil "
      ],
      "metadata": {
        "id": "F-_IHEaLKlP0"
      },
      "execution_count": null,
      "outputs": []
    },
    {
      "cell_type": "code",
      "source": [
        "norm_factor = 255."
      ],
      "metadata": {
        "id": "AmViQle7KmLe"
      },
      "execution_count": null,
      "outputs": []
    },
    {
      "cell_type": "code",
      "source": [
        "path = '/content/drive/MyDrive/S4.PFE1/MEDICALE_IMAGES_DATASET/Test'\n",
        "imageList = os.listdir(path)\n",
        "LR_images_list_test = []\n",
        "HR_images_list_test = []\n",
        "all_denoised_images = []\n",
        "kernel_size = 3\n",
        "\n",
        "for image in (imageList):\n",
        "            picture = cv2.imread(os.path.join(path,image))\n",
        "         #   plt.imshow(picture)\n",
        "            picture = cv2.cvtColor(picture, cv2.COLOR_BGR2GRAY)\n",
        "            picture = picture.astype(np.float32)/norm_factor \n",
        "          #  plt.imshow(picture)\n",
        "        #    picture = (picture.astype(np.float32) - 127.5)/127.5\n",
        "            picture = cv2.resize(picture,(56,56))\n",
        "            picture = np.array(picture)\n",
        "            picture_noisy = speckle(picture)\n",
        "            picture_denoised = median_filter(picture_noisy, kernel_size)\n",
        "            HR_images_list_test.append(picture)\n",
        "            LR_images_list_test.append(picture_noisy)\n",
        "            all_denoised_images.append(picture_denoised)"
      ],
      "metadata": {
        "id": "a7QA9dS9Kxqm"
      },
      "execution_count": null,
      "outputs": []
    },
    {
      "cell_type": "code",
      "source": [
        "HR_images_list_test = np.array(HR_images_list_test)\n",
        "LR_images_list_test = np.array(LR_images_list_test)\n",
        "all_denoised_images = np.array(all_denoised_images)"
      ],
      "metadata": {
        "id": "yWDhcUhWK0cI"
      },
      "execution_count": null,
      "outputs": []
    },
    {
      "cell_type": "code",
      "source": [
        "dimension = HR_images_list_test.shape[1]"
      ],
      "metadata": {
        "id": "DgdnGnGDLcu1"
      },
      "execution_count": null,
      "outputs": []
    },
    {
      "cell_type": "code",
      "source": [
        "n = 3\n",
        "for i in range(n):\n",
        "    fig, axes = plt.subplots(1, 3)\n",
        "    fig.set_size_inches(8, 2)\n",
        "    axes[0].set_title('Noisy image')\n",
        "    im0 = axes[0].imshow(LR_images_list_test[i].reshape(dimension, dimension), cmap = 'Reds') #, cmap = 'Reds'\n",
        "    axes[1].set_title('Target image')\n",
        "    im1 = axes[1].imshow(HR_images_list_test[i].reshape(dimension, dimension), cmap = 'Reds') #, cmap = 'Reds'\n",
        "    axes[2].set_title('Denoised image')\n",
        "    im2 = axes[2].imshow(all_denoised_images[i].reshape(dimension, dimension), cmap = 'Reds') #, cmap = 'Reds'\n",
        "    "
      ],
      "metadata": {
        "id": "UHNGeMPOLd8T"
      },
      "execution_count": null,
      "outputs": []
    },
    {
      "cell_type": "code",
      "source": [
        "psnr = tf.image.psnr(all_denoised_images,LR_images_list_test, max_val = 1)\n",
        "psnr"
      ],
      "metadata": {
        "colab": {
          "base_uri": "https://localhost:8080/"
        },
        "id": "PZrloKUULhbh",
        "outputId": "fb85d916-5c9a-43d7-fc93-d45f8649b91e"
      },
      "execution_count": null,
      "outputs": [
        {
          "output_type": "execute_result",
          "data": {
            "text/plain": [
              "<tf.Tensor: shape=(), dtype=float32, numpy=17.132654>"
            ]
          },
          "metadata": {},
          "execution_count": 25
        }
      ]
    },
    {
      "cell_type": "code",
      "source": [
        "import statistics"
      ],
      "metadata": {
        "id": "kyD7PDiDOmIF"
      },
      "execution_count": null,
      "outputs": []
    },
    {
      "cell_type": "code",
      "source": [
        "from skimage.metrics import structural_similarity\n",
        "def structural_sim(img1, img2):\n",
        "\n",
        "  sim, diff = structural_similarity(img1, img2, full=True)\n",
        "  return sim"
      ],
      "metadata": {
        "id": "crAcfoDgHPyX"
      },
      "execution_count": null,
      "outputs": []
    },
    {
      "cell_type": "code",
      "source": [
        "similarity = []\n",
        "\n",
        "for i in range(len(HR_images_list_test)) : \n",
        "  sim = structural_sim(HR_images_list_test[i],all_denoised_images[i])\n",
        "  similarity.append(sim)"
      ],
      "metadata": {
        "colab": {
          "base_uri": "https://localhost:8080/"
        },
        "id": "WdWL5G_YH6I4",
        "outputId": "16a21704-37ac-4dca-f4cb-b3aaad6735d9"
      },
      "execution_count": null,
      "outputs": [
        {
          "output_type": "stream",
          "name": "stderr",
          "text": [
            "/usr/local/lib/python3.7/dist-packages/ipykernel_launcher.py:4: UserWarning: Inputs have mismatched dtype.  Setting data_range based on im1.dtype.\n",
            "  after removing the cwd from sys.path.\n"
          ]
        }
      ]
    },
    {
      "cell_type": "code",
      "source": [
        "m = statistics.mean(similarity)\n",
        "m"
      ],
      "metadata": {
        "colab": {
          "base_uri": "https://localhost:8080/"
        },
        "id": "SamwBK8UOZg2",
        "outputId": "bd89c9d1-f919-494d-aeb6-9e684fd4f9a9"
      },
      "execution_count": null,
      "outputs": [
        {
          "output_type": "execute_result",
          "data": {
            "text/plain": [
              "0.8895424589148628"
            ]
          },
          "metadata": {},
          "execution_count": 24
        }
      ]
    }
  ]
}