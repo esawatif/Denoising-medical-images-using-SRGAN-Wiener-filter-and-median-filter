{
  "nbformat": 4,
  "nbformat_minor": 0,
  "metadata": {
    "colab": {
      "name": "Weiner_FILTER.ipynb",
      "provenance": [],
      "collapsed_sections": []
    },
    "kernelspec": {
      "name": "python3",
      "display_name": "Python 3"
    },
    "language_info": {
      "name": "python"
    }
  },
  "cells": [
    {
      "cell_type": "code",
      "execution_count": null,
      "metadata": {
        "id": "YjuqRMCX0l98"
      },
      "outputs": [],
      "source": [
        "import os\n",
        "import cv2\n",
        "import numpy as np\n",
        "from numpy.fft import fft2, ifft2\n",
        "from scipy.signal import gaussian, convolve2d\n",
        "import matplotlib.pyplot as plt\n",
        "import torch \n",
        "import random\n",
        "from skimage.util import random_noise\n",
        "import tensorflow as tf"
      ]
    },
    {
      "cell_type": "code",
      "source": [
        "import statistics"
      ],
      "metadata": {
        "id": "kyD7PDiDOmIF"
      },
      "execution_count": null,
      "outputs": []
    },
    {
      "cell_type": "code",
      "source": [
        "from google.colab import drive\n",
        "drive.mount('/content/drive')"
      ],
      "metadata": {
        "colab": {
          "base_uri": "https://localhost:8080/"
        },
        "id": "53BBq3Vx009r",
        "outputId": "6e08367b-4cd3-445b-e147-142cfc08744c"
      },
      "execution_count": null,
      "outputs": [
        {
          "output_type": "stream",
          "name": "stdout",
          "text": [
            "Mounted at /content/drive\n"
          ]
        }
      ]
    },
    {
      "cell_type": "code",
      "source": [
        "def wiener_filter(img, kernel, K):\n",
        "\tkernel /= np.sum(kernel)\n",
        "\tdummy = np.copy(img)\n",
        "\tdummy = fft2(dummy)\n",
        "\tkernel = fft2(kernel, s = img.shape)\n",
        "\tkernel = np.conj(kernel) / (np.abs(kernel) ** 2 + K)\n",
        "\tdummy = dummy * kernel\n",
        "\tdummy = np.abs(ifft2(dummy))\n",
        "\treturn dummy"
      ],
      "metadata": {
        "id": "oM5PmzW60uPz"
      },
      "execution_count": null,
      "outputs": []
    },
    {
      "cell_type": "code",
      "source": [
        "def gaussian_kernel(kernel_size = 3):\n",
        "\th = gaussian(kernel_size, kernel_size / 3).reshape(kernel_size, 1)\n",
        "\th = np.dot(h, h.transpose())\n",
        "\th /= np.sum(h)\n",
        "\treturn h"
      ],
      "metadata": {
        "id": "sdtjGbkc4eWE"
      },
      "execution_count": null,
      "outputs": []
    },
    {
      "cell_type": "code",
      "source": [
        "def identity_kernel(kernel_size=3):\n",
        "  matrix = np.zeros((kernel_size,kernel_size))\n",
        "  i = round(kernel_size/2) - 1\n",
        "  matrix[i][i] = 1\n",
        "  return matrix\n",
        "\n",
        "m = identity_kernel(kernel_size=3)\n",
        "m"
      ],
      "metadata": {
        "colab": {
          "base_uri": "https://localhost:8080/"
        },
        "id": "hxdbKO0rHn4_",
        "outputId": "f7c3d0d1-ec00-4378-ec20-059099053d1c"
      },
      "execution_count": null,
      "outputs": [
        {
          "output_type": "execute_result",
          "data": {
            "text/plain": [
              "array([[0., 0., 0.],\n",
              "       [0., 1., 0.],\n",
              "       [0., 0., 0.]])"
            ]
          },
          "metadata": {},
          "execution_count": 5
        }
      ]
    },
    {
      "cell_type": "code",
      "source": [
        "def speckle(img) :\n",
        "  hasil = torch.tensor(random_noise(img, mode='speckle', mean=0, var=0.05, clip=True))\n",
        "  hasil = hasil.numpy()\n",
        "  return hasil "
      ],
      "metadata": {
        "id": "edh82HJm1DKy"
      },
      "execution_count": null,
      "outputs": []
    },
    {
      "cell_type": "code",
      "source": [
        "from skimage.metrics import structural_similarity\n",
        "def structural_sim(img1, img2):\n",
        "\n",
        "  sim, diff = structural_similarity(img1, img2, full=True)\n",
        "  return sim"
      ],
      "metadata": {
        "id": "crAcfoDgHPyX"
      },
      "execution_count": null,
      "outputs": []
    },
    {
      "cell_type": "code",
      "source": [
        "norm_factor = 255."
      ],
      "metadata": {
        "id": "aT5MM_F51XNI"
      },
      "execution_count": null,
      "outputs": []
    },
    {
      "cell_type": "markdown",
      "source": [
        "# Processing "
      ],
      "metadata": {
        "id": "75Ocfsd-sXaf"
      }
    },
    {
      "cell_type": "code",
      "source": [
        "path = '/content/drive/MyDrive/S4.PFE1/MEDICALE_IMAGES_DATASET/Test'\n",
        "imageList = os.listdir(path)\n",
        "LR_images_list_test = []\n",
        "HR_images_list_test = []\n",
        "all_denoised_images = []\n",
        "#kernel = gaussian_kernel(kernel_size = 11) \n",
        "kernel = identity_kernel(kernel_size=3)\n",
        "for image in (imageList):\n",
        "            picture = cv2.imread(os.path.join(path,image))\n",
        "         #   plt.imshow(picture)\n",
        "            picture = cv2.cvtColor(picture, cv2.COLOR_BGR2GRAY)\n",
        "            picture = picture.astype(np.float32)/norm_factor \n",
        "          #  plt.imshow(picture)\n",
        "        #    picture = (picture.astype(np.float32) - 127.5)/127.5\n",
        "            picture = cv2.resize(picture,(56,56))\n",
        "            picture = np.array(picture)\n",
        "            picture_noisy = speckle(picture)\n",
        "            picture_denoised = wiener_filter(picture_noisy, kernel, K = 5)\n",
        "            HR_images_list_test.append(picture)\n",
        "            LR_images_list_test.append(picture_noisy)\n",
        "            all_denoised_images.append(picture_denoised)    "
      ],
      "metadata": {
        "id": "-Q0b9o2n1GPP"
      },
      "execution_count": null,
      "outputs": []
    },
    {
      "cell_type": "code",
      "source": [
        "HR_images_list_test = np.array(HR_images_list_test)\n",
        "LR_images_list_test = np.array(LR_images_list_test)\n",
        "all_denoised_images = np.array(all_denoised_images)"
      ],
      "metadata": {
        "id": "_BMKCsAx7njg"
      },
      "execution_count": null,
      "outputs": []
    },
    {
      "cell_type": "code",
      "source": [
        "dimension = HR_images_list_test.shape[1]"
      ],
      "metadata": {
        "id": "JLYzNV4c6pl4"
      },
      "execution_count": null,
      "outputs": []
    },
    {
      "cell_type": "markdown",
      "source": [
        "# Visualisation"
      ],
      "metadata": {
        "id": "6uZh_0v0sJwv"
      }
    },
    {
      "cell_type": "code",
      "source": [
        "n = 3\n",
        "for i in range(n):\n",
        "    fig, axes = plt.subplots(1, 3)\n",
        "    fig.set_size_inches(8, 2)\n",
        "    axes[0].set_title('Noisy image')\n",
        "    im0 = axes[0].imshow(LR_images_list_test[i].reshape(dimension, dimension), cmap = 'Reds') #, cmap = 'Reds'\n",
        "    axes[1].set_title('Target image')\n",
        "    im1 = axes[1].imshow(HR_images_list_test[i].reshape(dimension, dimension), cmap = 'Reds') #, cmap = 'Reds'\n",
        "    axes[2].set_title('Denoised image')\n",
        "    im2 = axes[2].imshow(all_denoised_images[i].reshape(dimension, dimension), cmap = 'Reds') #, cmap = 'Reds'\n",
        "    "
      ],
      "metadata": {
        "id": "Xq1eBFbp6HcL"
      },
      "execution_count": null,
      "outputs": []
    },
    {
      "cell_type": "markdown",
      "source": [
        "# PSNR"
      ],
      "metadata": {
        "id": "Lvrhka0oHTy7"
      }
    },
    {
      "cell_type": "code",
      "source": [
        "import tensorflow as tf\n",
        "psnr = tf.image.psnr(all_denoised_images,LR_images_list_test, max_val = 1)\n",
        "psnr"
      ],
      "metadata": {
        "colab": {
          "base_uri": "https://localhost:8080/"
        },
        "id": "tVFl_SOO7N3_",
        "outputId": "59c4e9e2-8874-48c7-d917-d464304586af"
      },
      "execution_count": null,
      "outputs": [
        {
          "output_type": "execute_result",
          "data": {
            "text/plain": [
              "<tf.Tensor: shape=(), dtype=float32, numpy=10.702305>"
            ]
          },
          "metadata": {},
          "execution_count": 104
        }
      ]
    },
    {
      "cell_type": "markdown",
      "source": [
        "# SSIM"
      ],
      "metadata": {
        "id": "GRe5wFVaHWf7"
      }
    },
    {
      "cell_type": "code",
      "source": [
        "similarity = []\n",
        "\n",
        "for i in range(len(HR_images_list_test)) : \n",
        "  sim = structural_sim(HR_images_list_test[i],all_denoised_images[i])\n",
        "  similarity.append(sim)"
      ],
      "metadata": {
        "colab": {
          "base_uri": "https://localhost:8080/"
        },
        "id": "WdWL5G_YH6I4",
        "outputId": "38bd3f6a-7f7a-45b1-f39d-d64d900cba60"
      },
      "execution_count": null,
      "outputs": [
        {
          "output_type": "stream",
          "name": "stderr",
          "text": [
            "/usr/local/lib/python3.7/dist-packages/ipykernel_launcher.py:4: UserWarning: Inputs have mismatched dtype.  Setting data_range based on im1.dtype.\n",
            "  after removing the cwd from sys.path.\n"
          ]
        }
      ]
    },
    {
      "cell_type": "code",
      "source": [
        "m = statistics.mean(similarity)\n",
        "m"
      ],
      "metadata": {
        "colab": {
          "base_uri": "https://localhost:8080/"
        },
        "id": "SamwBK8UOZg2",
        "outputId": "b6e81187-b898-4017-dc81-da7a4084eb47"
      },
      "execution_count": null,
      "outputs": [
        {
          "output_type": "execute_result",
          "data": {
            "text/plain": [
              "0.21099685493915254"
            ]
          },
          "metadata": {},
          "execution_count": 184
        }
      ]
    }
  ]
}